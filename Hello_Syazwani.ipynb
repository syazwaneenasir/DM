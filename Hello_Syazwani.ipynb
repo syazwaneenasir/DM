{
  "nbformat": 4,
  "nbformat_minor": 0,
  "metadata": {
    "colab": {
      "name": "Hello_Syazwani.ipynb",
      "provenance": [],
      "include_colab_link": true
    },
    "kernelspec": {
      "name": "python3",
      "display_name": "Python 3"
    },
    "language_info": {
      "name": "python"
    },
    "accelerator": "GPU"
  },
  "cells": [
    {
      "cell_type": "markdown",
      "metadata": {
        "id": "view-in-github",
        "colab_type": "text"
      },
      "source": [
        "<a href=\"https://colab.research.google.com/github/syazwaneenasir/DM/blob/main/Hello_Syazwani.ipynb\" target=\"_parent\"><img src=\"https://colab.research.google.com/assets/colab-badge.svg\" alt=\"Open In Colab\"/></a>"
      ]
    },
    {
      "cell_type": "markdown",
      "source": [
        "## This is for Hello"
      ],
      "metadata": {
        "id": "OOJh36gdOCpH"
      }
    },
    {
      "cell_type": "code",
      "source": [
        "print('Hello,World!')"
      ],
      "metadata": {
        "colab": {
          "base_uri": "https://localhost:8080/"
        },
        "id": "8gqcnbAZOIb9",
        "outputId": "0f8cd72d-8e71-45b0-a78b-34d260096173"
      },
      "execution_count": null,
      "outputs": [
        {
          "output_type": "stream",
          "name": "stdout",
          "text": [
            "Hello,World!\n"
          ]
        }
      ]
    },
    {
      "cell_type": "code",
      "source": [
        "print('Syazwani here')"
      ],
      "metadata": {
        "colab": {
          "base_uri": "https://localhost:8080/"
        },
        "id": "vcmjGkt0OOMq",
        "outputId": "3ce5a16f-59f7-4494-e82b-0386cc3bae2e"
      },
      "execution_count": null,
      "outputs": [
        {
          "output_type": "stream",
          "name": "stdout",
          "text": [
            "Syazwani here\n"
          ]
        }
      ]
    },
    {
      "cell_type": "code",
      "source": [
        "print('Nice to meet you')"
      ],
      "metadata": {
        "colab": {
          "base_uri": "https://localhost:8080/"
        },
        "id": "e9BV_5VOOe4R",
        "outputId": "ad52cdcc-4a04-4807-ab57-d9e45e9828ea"
      },
      "execution_count": null,
      "outputs": [
        {
          "output_type": "stream",
          "name": "stdout",
          "text": [
            "Nice to meet you\n"
          ]
        }
      ]
    },
    {
      "cell_type": "markdown",
      "source": [
        "**Wish me the best in my Master's journey!**"
      ],
      "metadata": {
        "id": "t66sUkabRLXz"
      }
    },
    {
      "cell_type": "code",
      "source": [
        ""
      ],
      "metadata": {
        "id": "84-fUmDLPhwv"
      },
      "execution_count": null,
      "outputs": []
    }
  ]
}